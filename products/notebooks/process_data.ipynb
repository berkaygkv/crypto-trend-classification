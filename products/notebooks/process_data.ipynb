{
 "cells": [
  {
   "cell_type": "code",
   "execution_count": null,
   "id": "0c26f45d",
   "metadata": {
    "papermill": {
     "duration": 0.005008,
     "end_time": "2022-05-10T16:17:31.258192",
     "exception": false,
     "start_time": "2022-05-10T16:17:31.253184",
     "status": "completed"
    },
    "tags": [
     "parameters"
    ]
   },
   "outputs": [],
   "source": []
  },
  {
   "cell_type": "code",
   "execution_count": 1,
   "id": "630898cd",
   "metadata": {
    "execution": {
     "iopub.execute_input": "2022-05-10T16:17:31.272962Z",
     "iopub.status.busy": "2022-05-10T16:17:31.272962Z",
     "iopub.status.idle": "2022-05-10T16:17:31.285012Z",
     "shell.execute_reply": "2022-05-10T16:17:31.283467Z"
    },
    "papermill": {
     "duration": 0.022835,
     "end_time": "2022-05-10T16:17:31.287031",
     "exception": false,
     "start_time": "2022-05-10T16:17:31.264196",
     "status": "completed"
    },
    "tags": [
     "injected-parameters"
    ]
   },
   "outputs": [],
   "source": [
    "# Parameters\n",
    "initial_return_thresh = 0.1\n",
    "upstream = {\n",
    "    \"data_saving\": {\n",
    "        \"data_train\": \"C:\\\\Users\\\\berkayg\\\\Desktop\\\\Coding env\\\\crypto-prediction-project\\\\products\\\\data\\\\raw_train_data.csv\",\n",
    "        \"data_validation\": \"C:\\\\Users\\\\berkayg\\\\Desktop\\\\Coding env\\\\crypto-prediction-project\\\\products\\\\data\\\\raw_validation_data.csv\",\n",
    "    }\n",
    "}\n",
    "product = {\n",
    "    \"nb\": \"C:\\\\Users\\\\berkayg\\\\Desktop\\\\Coding env\\\\crypto-prediction-project\\\\products\\\\notebooks\\\\process_data.ipynb\",\n",
    "    \"data_train\": \"C:\\\\Users\\\\berkayg\\\\Desktop\\\\Coding env\\\\crypto-prediction-project\\\\products\\\\data\\\\processed_train_data.csv\",\n",
    "    \"data_validation\": \"C:\\\\Users\\\\berkayg\\\\Desktop\\\\Coding env\\\\crypto-prediction-project\\\\products\\\\data\\\\processed_validation_data.csv\",\n",
    "}\n"
   ]
  },
  {
   "cell_type": "code",
   "execution_count": 2,
   "id": "3ae79cf3",
   "metadata": {
    "execution": {
     "iopub.execute_input": "2022-05-10T16:17:31.299838Z",
     "iopub.status.busy": "2022-05-10T16:17:31.299329Z",
     "iopub.status.idle": "2022-05-10T16:17:36.427393Z",
     "shell.execute_reply": "2022-05-10T16:17:36.426396Z"
    },
    "papermill": {
     "duration": 5.137405,
     "end_time": "2022-05-10T16:17:36.429418",
     "exception": false,
     "start_time": "2022-05-10T16:17:31.292013",
     "status": "completed"
    },
    "tags": []
   },
   "outputs": [],
   "source": [
    "import pandas as pd\n",
    "import numpy as np\n",
    "\n",
    "from scipy.signal import find_peaks\n",
    "\n",
    "from datetime import datetime\n",
    "import math\n",
    "from sklearn.linear_model import LinearRegression\n",
    "import plotly.express as px\n",
    "from plotly import graph_objects as go\n",
    "\n",
    "#import talib\n",
    "import ta"
   ]
  },
  {
   "cell_type": "code",
   "execution_count": 3,
   "id": "bacc5b47",
   "metadata": {
    "execution": {
     "iopub.execute_input": "2022-05-10T16:17:36.441412Z",
     "iopub.status.busy": "2022-05-10T16:17:36.441412Z",
     "iopub.status.idle": "2022-05-10T16:17:36.459558Z",
     "shell.execute_reply": "2022-05-10T16:17:36.457650Z"
    },
    "papermill": {
     "duration": 0.027154,
     "end_time": "2022-05-10T16:17:36.461563",
     "exception": false,
     "start_time": "2022-05-10T16:17:36.434409",
     "status": "completed"
    },
    "tags": []
   },
   "outputs": [],
   "source": [
    "columns = ['Close', 'Volume', 'Price', 'trend_ema_fast', 'trend_ema_slow', 'trend_sma_fast', 'trend_sma_slow']"
   ]
  },
  {
   "cell_type": "code",
   "execution_count": 4,
   "id": "2b308c4d",
   "metadata": {
    "execution": {
     "iopub.execute_input": "2022-05-10T16:17:36.474561Z",
     "iopub.status.busy": "2022-05-10T16:17:36.474561Z",
     "iopub.status.idle": "2022-05-10T16:17:36.490808Z",
     "shell.execute_reply": "2022-05-10T16:17:36.488872Z"
    },
    "papermill": {
     "duration": 0.024218,
     "end_time": "2022-05-10T16:17:36.492808",
     "exception": false,
     "start_time": "2022-05-10T16:17:36.468590",
     "status": "completed"
    },
    "tags": []
   },
   "outputs": [],
   "source": [
    "def read_data(path):\n",
    "    df = pd.read_csv(path, header=[0, 1],index_col=[0], parse_dates=[0])\n",
    "    df = df.droplevel(0, axis=1)\n",
    "    return df"
   ]
  },
  {
   "cell_type": "code",
   "execution_count": 5,
   "id": "5aa5ac65",
   "metadata": {
    "execution": {
     "iopub.execute_input": "2022-05-10T16:17:36.504834Z",
     "iopub.status.busy": "2022-05-10T16:17:36.504834Z",
     "iopub.status.idle": "2022-05-10T16:17:36.617802Z",
     "shell.execute_reply": "2022-05-10T16:17:36.615947Z"
    },
    "papermill": {
     "duration": 0.121999,
     "end_time": "2022-05-10T16:17:36.619802",
     "exception": false,
     "start_time": "2022-05-10T16:17:36.497803",
     "status": "completed"
    },
    "tags": []
   },
   "outputs": [],
   "source": [
    "df_train = read_data(upstream[\"data_saving\"][\"data_train\"])\n",
    "df_validation = read_data(upstream[\"data_saving\"][\"data_validation\"])\n",
    "df_total = pd.concat([df_validation, df_train])"
   ]
  },
  {
   "cell_type": "markdown",
   "id": "1517d903",
   "metadata": {
    "papermill": {
     "duration": 0.006999,
     "end_time": "2022-05-10T16:17:36.633805",
     "exception": false,
     "start_time": "2022-05-10T16:17:36.626806",
     "status": "completed"
    },
    "tags": []
   },
   "source": [
    "# Final version"
   ]
  },
  {
   "cell_type": "code",
   "execution_count": 6,
   "id": "5a2fb394",
   "metadata": {
    "execution": {
     "iopub.execute_input": "2022-05-10T16:17:36.647804Z",
     "iopub.status.busy": "2022-05-10T16:17:36.647804Z",
     "iopub.status.idle": "2022-05-10T16:17:36.663603Z",
     "shell.execute_reply": "2022-05-10T16:17:36.662731Z"
    },
    "papermill": {
     "duration": 0.024791,
     "end_time": "2022-05-10T16:17:36.665598",
     "exception": false,
     "start_time": "2022-05-10T16:17:36.640807",
     "status": "completed"
    },
    "tags": []
   },
   "outputs": [],
   "source": [
    "def _action(x):\n",
    "    if not pd.isnull(x[\"loc_min\"]):\n",
    "        return \"buy\"\n",
    "    elif not pd.isnull(x[\"loc_max\"]):\n",
    "        return \"sell\"\n",
    "    else:\n",
    "        return \"neutral\""
   ]
  },
  {
   "cell_type": "code",
   "execution_count": 7,
   "id": "93f6b364",
   "metadata": {
    "execution": {
     "iopub.execute_input": "2022-05-10T16:17:36.676599Z",
     "iopub.status.busy": "2022-05-10T16:17:36.676599Z",
     "iopub.status.idle": "2022-05-10T16:17:36.695739Z",
     "shell.execute_reply": "2022-05-10T16:17:36.694864Z"
    },
    "papermill": {
     "duration": 0.026173,
     "end_time": "2022-05-10T16:17:36.697770",
     "exception": false,
     "start_time": "2022-05-10T16:17:36.671597",
     "status": "completed"
    },
    "tags": []
   },
   "outputs": [],
   "source": [
    "def find_extremas(dataframe, **kwargs):\n",
    "    \"\"\"Finds local maximas/minimas in the series\n",
    "    Returns: List of extremas indices and dataframe with extremas added\n",
    "    \"\"\"\n",
    "    df = dataframe.copy()\n",
    "    df[\"returns\"] = df[\"Close\"].pct_change().fillna(0) * 100\n",
    "    df[\"returns\"] = df[\"returns\"].shift(-1)\n",
    "    df = df.iloc[:-1]\n",
    "    \n",
    "    df['loc_max'] = df.iloc[find_peaks(df.reset_index(drop=True)['Close'].to_numpy(), **kwargs)[0]]['Close']\n",
    "    df['loc_min'] = df.iloc[find_peaks(df.reset_index(drop=True)['Close'].to_numpy() * -1, **kwargs)[0]]['Close']\n",
    "    \n",
    "    idx_with_mins = np.where(df['loc_min'] > 0)[0]\n",
    "    idx_with_maxs = np.where(df['loc_max'] > 0)[0]\n",
    "    idx_concat = np.concatenate([idx_with_mins, idx_with_maxs])\n",
    "    \n",
    "    first_idx_bool = idx_with_mins.min() > idx_with_maxs.min()\n",
    "    if first_idx_bool and 0 not in idx_concat:\n",
    "        idx_with_mins = np.append(0, idx_with_mins)\n",
    "        df.iloc[0, df.columns.get_loc(\"loc_min\")] = df.iloc[0, df.columns.get_loc(\"Close\")]\n",
    "    \n",
    "    elif not first_idx_bool and 0 not in idx_concat:\n",
    "        idx_with_maxs = np.append(0, idx_with_maxs)\n",
    "        df.iloc[0, df.columns.get_loc(\"loc_max\")] = df.iloc[0, df.columns.get_loc(\"Close\")]\n",
    "    \n",
    "    return idx_with_maxs, idx_with_mins, idx_concat, df"
   ]
  },
  {
   "cell_type": "code",
   "execution_count": 8,
   "id": "58052726",
   "metadata": {
    "execution": {
     "iopub.execute_input": "2022-05-10T16:17:36.708768Z",
     "iopub.status.busy": "2022-05-10T16:17:36.707737Z",
     "iopub.status.idle": "2022-05-10T16:17:36.727654Z",
     "shell.execute_reply": "2022-05-10T16:17:36.726961Z"
    },
    "papermill": {
     "duration": 0.027871,
     "end_time": "2022-05-10T16:17:36.729639",
     "exception": false,
     "start_time": "2022-05-10T16:17:36.701768",
     "status": "completed"
    },
    "tags": []
   },
   "outputs": [],
   "source": [
    "def optimize_extremas(df, idx_concat,thresh=1):\n",
    "    \"\"\"Remove unsignificant peaks and dips\n",
    "    Returns: Dataframe\n",
    "    \"\"\"\n",
    "    df[\"idx\"] = ((df[\"loc_min\"].isnull()) & (df[\"loc_max\"].isnull())).cumsum()\n",
    "    df[\"idx\"] = np.arange(0, df.shape[0])\n",
    "    df[\"count\"] = np.arange(0, df.shape[0])\n",
    "    df[\"count\"] = (df[\"count\"].isin(idx_concat)).cumsum()\n",
    "    df['cum_return'] = df.sort_index(ascending=False).groupby('count')['returns'].transform(np.cumsum)#.shift()\n",
    "    df.loc[(df[\"loc_min\"].isnull() == False) & (abs(df[\"cum_return\"]) < thresh), \"loc_min\"] = np.nan\n",
    "    df.loc[(df[\"loc_max\"].isnull() == False) & (abs(df[\"cum_return\"]) < thresh), \"loc_max\"] = np.nan\n",
    "    df[\"action\"] = df.apply(_action, axis=1)\n",
    "    return df"
   ]
  },
  {
   "cell_type": "code",
   "execution_count": 9,
   "id": "68d0ae18",
   "metadata": {
    "execution": {
     "iopub.execute_input": "2022-05-10T16:17:36.742643Z",
     "iopub.status.busy": "2022-05-10T16:17:36.742643Z",
     "iopub.status.idle": "2022-05-10T16:17:36.758018Z",
     "shell.execute_reply": "2022-05-10T16:17:36.756988Z"
    },
    "papermill": {
     "duration": 0.024353,
     "end_time": "2022-05-10T16:17:36.759996",
     "exception": false,
     "start_time": "2022-05-10T16:17:36.735643",
     "status": "completed"
    },
    "tags": []
   },
   "outputs": [],
   "source": [
    "def plot_series(df):\n",
    "    hover_data = {\"Close\": True, \"Date\": True, \"returns\":True, \"cum_return\":True, \"idx\":True, \"count\":True}\n",
    "    fig_obj = px.line(x=\"Date\", y=\"Close\", data_frame=df.reset_index(), hover_data=hover_data)\n",
    "\n",
    "    extrema_min = px.scatter(x=\"Date\", y=\"loc_min\", data_frame=df.reset_index(), hover_data=hover_data)\n",
    "    extrema_min.update_traces(marker=dict(color='green'))\n",
    "\n",
    "    extrema_max = px.scatter(x=\"Date\", y=\"loc_max\", data_frame=df.reset_index(), hover_data=hover_data)\n",
    "    extrema_max.update_traces(marker=dict(color='red'))\n",
    "\n",
    "    fig = fig_obj.data + extrema_min.data + extrema_max.data\n",
    "    return go.Figure(fig)"
   ]
  },
  {
   "cell_type": "code",
   "execution_count": 10,
   "id": "c51119c3",
   "metadata": {
    "execution": {
     "iopub.execute_input": "2022-05-10T16:17:36.770999Z",
     "iopub.status.busy": "2022-05-10T16:17:36.770999Z",
     "iopub.status.idle": "2022-05-10T16:17:36.790115Z",
     "shell.execute_reply": "2022-05-10T16:17:36.789240Z"
    },
    "papermill": {
     "duration": 0.02714,
     "end_time": "2022-05-10T16:17:36.792144",
     "exception": false,
     "start_time": "2022-05-10T16:17:36.765004",
     "status": "completed"
    },
    "tags": []
   },
   "outputs": [],
   "source": [
    "def prepare_data(df, symbol, prominence=0.8, thresh=0.5):\n",
    "    print(f\"CONFIG: Symbol: {symbol} - Prominence: {prominence} - Thresh: {thresh}\")\n",
    "    try:\n",
    "        df = df[[symbol]].droplevel(axis=1, level=0)\n",
    "    except:\n",
    "        pass\n",
    "    _, _, idx_concat, df = find_extremas(df, prominence=prominence)\n",
    "    df = optimize_extremas(df, idx_concat, thresh=thresh)\n",
    "    fig = plot_series(df)\n",
    "    print(df.action.value_counts())\n",
    "    return idx_concat, df[[\"Open\", \"High\", \"Low\", \"Close\", \"Volume\", \"action\"]], fig\n",
    "    "
   ]
  },
  {
   "cell_type": "code",
   "execution_count": 11,
   "id": "20db6cd7",
   "metadata": {
    "execution": {
     "iopub.execute_input": "2022-05-10T16:17:36.803146Z",
     "iopub.status.busy": "2022-05-10T16:17:36.803146Z",
     "iopub.status.idle": "2022-05-10T16:17:36.822146Z",
     "shell.execute_reply": "2022-05-10T16:17:36.821200Z"
    },
    "papermill": {
     "duration": 0.027029,
     "end_time": "2022-05-10T16:17:36.824145",
     "exception": false,
     "start_time": "2022-05-10T16:17:36.797116",
     "status": "completed"
    },
    "tags": []
   },
   "outputs": [],
   "source": [
    "def linear_regression(x, y):\n",
    "    \"\"\"\n",
    "    performs linear regression given x and y. outputs regression coefficient\n",
    "    \"\"\"\n",
    "    #fit linear regression\n",
    "    lr = LinearRegression()\n",
    "    lr.fit(x, y)\n",
    "    \n",
    "    return lr.coef_[0][0]\n",
    "\n",
    "def n_day_regression(n, df, idxs):\n",
    "    \"\"\"\n",
    "    n day regression.\n",
    "    \"\"\"\n",
    "    #variable\n",
    "    _varname_ = f'{n}_reg'\n",
    "    df[_varname_] = np.nan\n",
    "\n",
    "    for idx in idxs:\n",
    "        if idx > n:\n",
    "            \n",
    "            y = df['Close'][idx - n: idx].to_numpy()\n",
    "            x = np.arange(0, n)\n",
    "            #reshape\n",
    "            y = y.reshape(y.shape[0], 1)\n",
    "            x = x.reshape(x.shape[0], 1)\n",
    "            #calculate regression coefficient \n",
    "            coef = linear_regression(x, y)\n",
    "            df.iloc[idx, df.columns.get_loc(_varname_)] = coef #add the new value\n",
    "            \n",
    "    return df\n"
   ]
  },
  {
   "cell_type": "code",
   "execution_count": 12,
   "id": "96ab357a",
   "metadata": {
    "execution": {
     "iopub.execute_input": "2022-05-10T16:17:36.836114Z",
     "iopub.status.busy": "2022-05-10T16:17:36.835111Z",
     "iopub.status.idle": "2022-05-10T16:17:36.854114Z",
     "shell.execute_reply": "2022-05-10T16:17:36.853200Z"
    },
    "papermill": {
     "duration": 0.027007,
     "end_time": "2022-05-10T16:17:36.856145",
     "exception": false,
     "start_time": "2022-05-10T16:17:36.829138",
     "status": "completed"
    },
    "tags": []
   },
   "outputs": [],
   "source": [
    "def Supertrend(df, atr_period, multiplier):\n",
    "    \n",
    "    high = df['High']\n",
    "    low = df['Low']\n",
    "    close = df['Close']\n",
    "    center = df['center']\n",
    "    \n",
    "    # calculate ATR\n",
    "    price_diffs = [high - low, \n",
    "                   high - close.shift(), \n",
    "                   close.shift() - low]\n",
    "    true_range = pd.concat(price_diffs, axis=1)\n",
    "    true_range = true_range.abs().max(axis=1)\n",
    "    # default ATR calculation in supertrend indicator\n",
    "    atr = true_range.ewm(alpha=1/atr_period,min_periods=atr_period).mean() \n",
    "    # df['atr'] = df['tr'].rolling(atr_period).mean()\n",
    "    \n",
    "    # HL2 is simply the average of high and low prices\n",
    "    hl2 = (high + low) / 2\n",
    "    # upperband and lowerband calculation\n",
    "    # notice that final bands are set to be equal to the respective bands\n",
    "    # final_upperband = upperband = hl2 + (multiplier * atr)\n",
    "    # final_lowerband = lowerband = hl2 - (multiplier * atr)\n",
    "\n",
    "    final_upperband = upperband = center + (multiplier * atr)\n",
    "    final_lowerband = lowerband = center - (multiplier * atr)\n",
    "\n",
    "    \n",
    "    # initialize Supertrend column to True\n",
    "    supertrend = [True] * len(df)\n",
    "    \n",
    "    for i in range(1, len(df.index)):\n",
    "        curr, prev = i, i-1\n",
    "        \n",
    "        # if current close price crosses above upperband\n",
    "        if close[curr] > final_upperband[prev]:\n",
    "            supertrend[curr] = True\n",
    "        # if current close price crosses below lowerband\n",
    "        elif close[curr] < final_lowerband[prev]:\n",
    "            supertrend[curr] = False\n",
    "        # else, the trend continues\n",
    "        else:\n",
    "            supertrend[curr] = supertrend[prev]\n",
    "            \n",
    "            # adjustment to the final bands\n",
    "            if supertrend[curr] == True and final_lowerband[curr] < final_lowerband[prev]:\n",
    "                final_lowerband[curr] = final_lowerband[prev]\n",
    "            if supertrend[curr] == False and final_upperband[curr] > final_upperband[prev]:\n",
    "                final_upperband[curr] = final_upperband[prev]\n",
    "\n",
    "        # to remove bands according to the trend direction\n",
    "        if supertrend[curr] == True:\n",
    "            final_upperband[curr] = np.nan\n",
    "        else:\n",
    "            final_lowerband[curr] = np.nan\n",
    "    \n",
    "    return pd.DataFrame({\n",
    "        'Supertrend': supertrend,\n",
    "        'Final Lowerband': final_lowerband,\n",
    "        'Final Upperband': final_upperband\n",
    "    }, index=df.index)"
   ]
  },
  {
   "cell_type": "code",
   "execution_count": 13,
   "id": "d06d2f6c",
   "metadata": {
    "execution": {
     "iopub.execute_input": "2022-05-10T16:17:36.869112Z",
     "iopub.status.busy": "2022-05-10T16:17:36.868114Z",
     "iopub.status.idle": "2022-05-10T16:17:36.885194Z",
     "shell.execute_reply": "2022-05-10T16:17:36.884199Z"
    },
    "papermill": {
     "duration": 0.025084,
     "end_time": "2022-05-10T16:17:36.887194",
     "exception": false,
     "start_time": "2022-05-10T16:17:36.862110",
     "status": "completed"
    },
    "tags": []
   },
   "outputs": [],
   "source": [
    "def supertrend_processing(df):\n",
    "    if \"action\" in df.columns:\n",
    "        df = df.drop(columns=[\"action\"])\n",
    "    \n",
    "\n",
    "    df[\"ph_arg\"] = df[\"High\"].rolling(2).apply(lambda x: np.argmax(x))\n",
    "    df[\"ph_arg_rev\"] = df[\"High\"].sort_index(ascending=False).rolling(2).apply(lambda x: np.argmax(x))\n",
    "    df[\"ph\"] = (df[\"ph_arg\"] == 1) & (df[\"ph_arg_rev\"] == 1)\n",
    "    df[\"ph\"] = df.apply(lambda x: x[\"High\"] if x[\"ph\"] == 1 else np.nan, axis=1)\n",
    "\n",
    "    df[\"pl_arg\"] = df[\"Low\"].rolling(2).apply(lambda x: np.argmin(x))\n",
    "    df[\"pl_arg_rev\"] = df[\"Low\"].sort_index(ascending=False).rolling(2).apply(lambda x: np.argmin(x))\n",
    "    df[\"pl\"] = (df[\"pl_arg\"] == 1) & (df[\"pl_arg_rev\"] == 1)\n",
    "    df[\"pl\"] = df.apply(lambda x: x[\"Low\"] if x[\"pl\"] == 1 else np.nan, axis=1)\n",
    "\n",
    "    df.drop(columns=[\"ph_arg_rev\", \"ph_arg\", \"pl_arg_rev\", \"pl_arg\"], inplace=True)\n",
    "    df = extract_pivot_centers(df)\n",
    "    df[\"ph\"] = np.where(df[\"ph\"].isnull(), 0, 1)\n",
    "    df[\"pl\"] = np.where(df[\"pl\"].isnull(), 0, 1)\n",
    "\n",
    "    atr_period = 3\n",
    "    high = df['High']\n",
    "    low = df['Low']\n",
    "    close = df['Close']\n",
    "    center = df['center']\n",
    "    # calculate ATR\n",
    "    price_diffs = [high - low, \n",
    "                   high - close.shift(), \n",
    "                   close.shift() - low]\n",
    "    true_range = pd.concat(price_diffs, axis=1)\n",
    "    true_range = true_range.abs().max(axis=1)\n",
    "    # default ATR calculation in supertrend indicator\n",
    "    atr = true_range.ewm(alpha=1/atr_period,min_periods=atr_period).mean() \n",
    "    df[\"atr\"] = atr\n",
    "    df.dropna(inplace=True)\n",
    "    \n",
    "    return df"
   ]
  },
  {
   "cell_type": "code",
   "execution_count": 14,
   "id": "6713c3d7",
   "metadata": {
    "execution": {
     "iopub.execute_input": "2022-05-10T16:17:36.898195Z",
     "iopub.status.busy": "2022-05-10T16:17:36.898195Z",
     "iopub.status.idle": "2022-05-10T16:17:36.916946Z",
     "shell.execute_reply": "2022-05-10T16:17:36.915971Z"
    },
    "papermill": {
     "duration": 0.026752,
     "end_time": "2022-05-10T16:17:36.918959",
     "exception": false,
     "start_time": "2022-05-10T16:17:36.892207",
     "status": "completed"
    },
    "tags": []
   },
   "outputs": [],
   "source": [
    "def extract_pivot_centers(df):\n",
    "    df[\"center\"] = np.nan\n",
    "    center = np.nan\n",
    "    for i, k in enumerate(df.iterrows()):\n",
    "        ph = k[1][\"ph\"]\n",
    "        pl = k[1][\"pl\"]\n",
    "        if not pd.isnull(ph):\n",
    "            lastpp = ph\n",
    "            center = lastpp\n",
    "        elif not pd.isnull(pl):\n",
    "            lastpp = pl\n",
    "            center = lastpp\n",
    "        else:\n",
    "            k[1][\"center\"] = center\n",
    "            continue\n",
    "\n",
    "        if pd.isnull(center):\n",
    "            center = (center * 2 + lastpp) / 3\n",
    "\n",
    "        k[1][\"center\"] = center\n",
    "\n",
    "    return df"
   ]
  },
  {
   "cell_type": "code",
   "execution_count": 15,
   "id": "02cc5cef",
   "metadata": {
    "execution": {
     "iopub.execute_input": "2022-05-10T16:17:36.933951Z",
     "iopub.status.busy": "2022-05-10T16:17:36.932939Z",
     "iopub.status.idle": "2022-05-10T16:17:36.946892Z",
     "shell.execute_reply": "2022-05-10T16:17:36.945993Z"
    },
    "papermill": {
     "duration": 0.022954,
     "end_time": "2022-05-10T16:17:36.948895",
     "exception": false,
     "start_time": "2022-05-10T16:17:36.925941",
     "status": "completed"
    },
    "tags": []
   },
   "outputs": [],
   "source": [
    "def process_data(df_source):\n",
    "    df = ta.add_all_ta_features(df_source.drop(columns=[\"action\"]), open=\"Open\", high=\"High\", low=\"Low\", close=\"Close\", volume=\"Volume\")\n",
    "    \n",
    "    epsilon = 10e-10\n",
    "    high = df[\"High\"] - df[\"Low\"]\n",
    "    close = df[\"Close\"] - df[\"Low\"]\n",
    "    df[\"Price\"] = close/(high + epsilon)\n",
    "\n",
    "    \n",
    "    df = df[columns]\n",
    "    df = n_day_regression(5, df, np.arange(0, df.shape[0]))\n",
    "    df = n_day_regression(10, df, np.arange(0, df.shape[0]))\n",
    "    df = n_day_regression(50, df, np.arange(0, df.shape[0]))\n",
    "\n",
    "    df['action'] = df_source['action'].map(lambda x: 0 if x==\"neutral\" else 1)\n",
    "    #df_processed['action'] = df_symbol['action'].map(action_dictionary)\n",
    "    df[\"ema\"] = df[\"trend_ema_fast\"] / df[\"trend_ema_slow\"]\n",
    "    df[\"sma\"] = df[\"trend_sma_fast\"] / df[\"trend_sma_slow\"]\n",
    "\n",
    "\n",
    "    # import talib\n",
    "    # df[\"RSI\"] = talib.RSI(df_source[\"Close\"])\n",
    "    df[\"Stock_RSI\"] = ta.momentum.StochRSIIndicator(df[\"Close\"], window=5).stochrsi()\n",
    "    df = df.dropna().drop(columns=[\"trend_ema_fast\", \"trend_ema_slow\", \"trend_sma_slow\", \"trend_sma_fast\"])\n",
    "    return df"
   ]
  },
  {
   "cell_type": "code",
   "execution_count": 16,
   "id": "42bf5d5e",
   "metadata": {
    "execution": {
     "iopub.execute_input": "2022-05-10T16:17:36.960892Z",
     "iopub.status.busy": "2022-05-10T16:17:36.959861Z",
     "iopub.status.idle": "2022-05-10T16:17:50.568155Z",
     "shell.execute_reply": "2022-05-10T16:17:50.567213Z"
    },
    "papermill": {
     "duration": 13.616233,
     "end_time": "2022-05-10T16:17:50.570129",
     "exception": false,
     "start_time": "2022-05-10T16:17:36.953896",
     "status": "completed"
    },
    "tags": []
   },
   "outputs": [],
   "source": [
    "df_supertrend = supertrend_processing(df_total)"
   ]
  },
  {
   "cell_type": "code",
   "execution_count": 17,
   "id": "2e313d23",
   "metadata": {
    "execution": {
     "iopub.execute_input": "2022-05-10T16:17:50.585128Z",
     "iopub.status.busy": "2022-05-10T16:17:50.585128Z",
     "iopub.status.idle": "2022-05-10T16:17:56.542197Z",
     "shell.execute_reply": "2022-05-10T16:17:56.541203Z"
    },
    "papermill": {
     "duration": 5.968075,
     "end_time": "2022-05-10T16:17:56.544220",
     "exception": false,
     "start_time": "2022-05-10T16:17:50.576145",
     "status": "completed"
    },
    "tags": []
   },
   "outputs": [],
   "source": [
    "custom_sum = lambda x: max(0, x.sum() - 1)\n",
    "look_back_pivots = df_supertrend.rolling(5).agg({\"ph\": custom_sum, \"pl\": custom_sum}).add_prefix('5_step_lookback_').fillna(0)\n",
    "df_supertrend = pd.concat([df_supertrend, look_back_pivots], axis=1)"
   ]
  },
  {
   "cell_type": "code",
   "execution_count": 18,
   "id": "99d58257",
   "metadata": {
    "execution": {
     "iopub.execute_input": "2022-05-10T16:17:56.558207Z",
     "iopub.status.busy": "2022-05-10T16:17:56.558207Z",
     "iopub.status.idle": "2022-05-10T16:17:59.663516Z",
     "shell.execute_reply": "2022-05-10T16:17:59.662514Z"
    },
    "papermill": {
     "duration": 3.115321,
     "end_time": "2022-05-10T16:17:59.665514",
     "exception": false,
     "start_time": "2022-05-10T16:17:56.550193",
     "status": "completed"
    },
    "tags": []
   },
   "outputs": [
    {
     "name": "stdout",
     "output_type": "stream",
     "text": [
      "CONFIG: Symbol: VIDTUSDT - Prominence: None - Thresh: 0.1\n"
     ]
    },
    {
     "name": "stdout",
     "output_type": "stream",
     "text": [
      "neutral    13422\n",
      "buy         3228\n",
      "sell        3205\n",
      "Name: action, dtype: int64\n"
     ]
    }
   ],
   "source": [
    "idx_concat, df_symbol, fig_symbol = prepare_data(df_train, \"VIDTUSDT\", prominence=None, thresh=initial_return_thresh)"
   ]
  },
  {
   "cell_type": "code",
   "execution_count": 19,
   "id": "2496965d",
   "metadata": {
    "execution": {
     "iopub.execute_input": "2022-05-10T16:17:59.678516Z",
     "iopub.status.busy": "2022-05-10T16:17:59.678516Z",
     "iopub.status.idle": "2022-05-10T16:17:59.928285Z",
     "shell.execute_reply": "2022-05-10T16:17:59.927278Z"
    },
    "papermill": {
     "duration": 0.258757,
     "end_time": "2022-05-10T16:17:59.930285",
     "exception": false,
     "start_time": "2022-05-10T16:17:59.671528",
     "status": "completed"
    },
    "tags": []
   },
   "outputs": [
    {
     "name": "stdout",
     "output_type": "stream",
     "text": [
      "CONFIG: Symbol: VIDTUSDT - Prominence: None - Thresh: 0.1\n"
     ]
    },
    {
     "name": "stdout",
     "output_type": "stream",
     "text": [
      "neutral    293\n",
      "buy        107\n",
      "sell        99\n",
      "Name: action, dtype: int64\n"
     ]
    }
   ],
   "source": [
    "idx_concat_valid, df_symbol_valid, fig_symbol_valid = prepare_data(df_validation, \"VIDTUSDT\", prominence=None, thresh=initial_return_thresh)"
   ]
  },
  {
   "cell_type": "code",
   "execution_count": 20,
   "id": "c8388f9d",
   "metadata": {
    "execution": {
     "iopub.execute_input": "2022-05-10T16:17:59.948286Z",
     "iopub.status.busy": "2022-05-10T16:17:59.948286Z",
     "iopub.status.idle": "2022-05-10T16:17:59.960328Z",
     "shell.execute_reply": "2022-05-10T16:17:59.959359Z"
    },
    "papermill": {
     "duration": 0.026037,
     "end_time": "2022-05-10T16:17:59.963326",
     "exception": false,
     "start_time": "2022-05-10T16:17:59.937289",
     "status": "completed"
    },
    "tags": []
   },
   "outputs": [],
   "source": [
    "action_dictionary = {\n",
    "    \"buy\": 1,\n",
    "    \"neutral\": 0,\n",
    "    \"sell\": 2\n",
    "}"
   ]
  },
  {
   "cell_type": "code",
   "execution_count": 21,
   "id": "eac3bc32",
   "metadata": {
    "execution": {
     "iopub.execute_input": "2022-05-10T16:17:59.979326Z",
     "iopub.status.busy": "2022-05-10T16:17:59.978378Z",
     "iopub.status.idle": "2022-05-10T16:18:01.443452Z",
     "shell.execute_reply": "2022-05-10T16:18:01.442529Z"
    },
    "papermill": {
     "duration": 1.475103,
     "end_time": "2022-05-10T16:18:01.445428",
     "exception": false,
     "start_time": "2022-05-10T16:17:59.970325",
     "status": "completed"
    },
    "tags": []
   },
   "outputs": [
    {
     "name": "stderr",
     "output_type": "stream",
     "text": [
      "C:\\Users\\berkayg\\anaconda3\\lib\\site-packages\\ta\\trend.py:769: RuntimeWarning:\n",
      "\n",
      "invalid value encountered in double_scalars\n",
      "\n",
      "C:\\Users\\berkayg\\anaconda3\\lib\\site-packages\\ta\\trend.py:774: RuntimeWarning:\n",
      "\n",
      "invalid value encountered in double_scalars\n",
      "\n"
     ]
    },
    {
     "data": {
      "text/html": [
       "<div>\n",
       "<style scoped>\n",
       "    .dataframe tbody tr th:only-of-type {\n",
       "        vertical-align: middle;\n",
       "    }\n",
       "\n",
       "    .dataframe tbody tr th {\n",
       "        vertical-align: top;\n",
       "    }\n",
       "\n",
       "    .dataframe thead th {\n",
       "        text-align: right;\n",
       "    }\n",
       "</style>\n",
       "<table border=\"1\" class=\"dataframe\">\n",
       "  <thead>\n",
       "    <tr style=\"text-align: right;\">\n",
       "      <th></th>\n",
       "      <th>Close</th>\n",
       "      <th>Volume</th>\n",
       "      <th>Price</th>\n",
       "      <th>5_reg</th>\n",
       "      <th>10_reg</th>\n",
       "      <th>50_reg</th>\n",
       "      <th>action</th>\n",
       "      <th>ema</th>\n",
       "      <th>sma</th>\n",
       "      <th>Stock_RSI</th>\n",
       "    </tr>\n",
       "    <tr>\n",
       "      <th>Date</th>\n",
       "      <th></th>\n",
       "      <th></th>\n",
       "      <th></th>\n",
       "      <th></th>\n",
       "      <th></th>\n",
       "      <th></th>\n",
       "      <th></th>\n",
       "      <th></th>\n",
       "      <th></th>\n",
       "      <th></th>\n",
       "    </tr>\n",
       "  </thead>\n",
       "  <tbody>\n",
       "    <tr>\n",
       "      <th>2022-03-01 04:15:00</th>\n",
       "      <td>43179.03</td>\n",
       "      <td>270.75635</td>\n",
       "      <td>0.348515</td>\n",
       "      <td>38.685</td>\n",
       "      <td>16.969273</td>\n",
       "      <td>-9.024230</td>\n",
       "      <td>1</td>\n",
       "      <td>0.999809</td>\n",
       "      <td>1.000316</td>\n",
       "      <td>0.134123</td>\n",
       "    </tr>\n",
       "    <tr>\n",
       "      <th>2022-03-01 04:20:00</th>\n",
       "      <td>43257.20</td>\n",
       "      <td>140.13570</td>\n",
       "      <td>0.994782</td>\n",
       "      <td>22.799</td>\n",
       "      <td>18.017818</td>\n",
       "      <td>-8.623711</td>\n",
       "      <td>0</td>\n",
       "      <td>1.000064</td>\n",
       "      <td>1.000630</td>\n",
       "      <td>0.513794</td>\n",
       "    </tr>\n",
       "    <tr>\n",
       "      <th>2022-03-01 04:25:00</th>\n",
       "      <td>43226.14</td>\n",
       "      <td>53.94089</td>\n",
       "      <td>0.153345</td>\n",
       "      <td>36.165</td>\n",
       "      <td>23.814727</td>\n",
       "      <td>-8.157106</td>\n",
       "      <td>1</td>\n",
       "      <td>1.000205</td>\n",
       "      <td>1.000886</td>\n",
       "      <td>0.255868</td>\n",
       "    </tr>\n",
       "    <tr>\n",
       "      <th>2022-03-01 04:30:00</th>\n",
       "      <td>43284.34</td>\n",
       "      <td>147.51626</td>\n",
       "      <td>0.813199</td>\n",
       "      <td>22.386</td>\n",
       "      <td>20.116242</td>\n",
       "      <td>-8.015828</td>\n",
       "      <td>0</td>\n",
       "      <td>1.000420</td>\n",
       "      <td>1.001172</td>\n",
       "      <td>0.497679</td>\n",
       "    </tr>\n",
       "    <tr>\n",
       "      <th>2022-03-01 04:35:00</th>\n",
       "      <td>43280.01</td>\n",
       "      <td>61.06185</td>\n",
       "      <td>0.788574</td>\n",
       "      <td>5.623</td>\n",
       "      <td>21.849394</td>\n",
       "      <td>-7.699331</td>\n",
       "      <td>0</td>\n",
       "      <td>1.000577</td>\n",
       "      <td>1.001504</td>\n",
       "      <td>0.892410</td>\n",
       "    </tr>\n",
       "  </tbody>\n",
       "</table>\n",
       "</div>"
      ],
      "text/plain": [
       "                        Close     Volume     Price   5_reg     10_reg  \\\n",
       "Date                                                                    \n",
       "2022-03-01 04:15:00  43179.03  270.75635  0.348515  38.685  16.969273   \n",
       "2022-03-01 04:20:00  43257.20  140.13570  0.994782  22.799  18.017818   \n",
       "2022-03-01 04:25:00  43226.14   53.94089  0.153345  36.165  23.814727   \n",
       "2022-03-01 04:30:00  43284.34  147.51626  0.813199  22.386  20.116242   \n",
       "2022-03-01 04:35:00  43280.01   61.06185  0.788574   5.623  21.849394   \n",
       "\n",
       "                       50_reg  action       ema       sma  Stock_RSI  \n",
       "Date                                                                  \n",
       "2022-03-01 04:15:00 -9.024230       1  0.999809  1.000316   0.134123  \n",
       "2022-03-01 04:20:00 -8.623711       0  1.000064  1.000630   0.513794  \n",
       "2022-03-01 04:25:00 -8.157106       1  1.000205  1.000886   0.255868  \n",
       "2022-03-01 04:30:00 -8.015828       0  1.000420  1.001172   0.497679  \n",
       "2022-03-01 04:35:00 -7.699331       0  1.000577  1.001504   0.892410  "
      ]
     },
     "execution_count": 21,
     "metadata": {},
     "output_type": "execute_result"
    }
   ],
   "source": [
    "df_processed_valid = process_data(df_symbol_valid)\n",
    "df_processed_valid.head()"
   ]
  },
  {
   "cell_type": "code",
   "execution_count": 22,
   "id": "d65b2dfa",
   "metadata": {
    "execution": {
     "iopub.execute_input": "2022-05-10T16:18:01.461395Z",
     "iopub.status.busy": "2022-05-10T16:18:01.461395Z",
     "iopub.status.idle": "2022-05-10T16:18:59.806411Z",
     "shell.execute_reply": "2022-05-10T16:18:59.805411Z"
    },
    "papermill": {
     "duration": 58.359016,
     "end_time": "2022-05-10T16:18:59.811410",
     "exception": false,
     "start_time": "2022-05-10T16:18:01.452394",
     "status": "completed"
    },
    "tags": []
   },
   "outputs": [
    {
     "name": "stderr",
     "output_type": "stream",
     "text": [
      "C:\\Users\\berkayg\\anaconda3\\lib\\site-packages\\ta\\trend.py:769: RuntimeWarning:\n",
      "\n",
      "invalid value encountered in double_scalars\n",
      "\n",
      "C:\\Users\\berkayg\\anaconda3\\lib\\site-packages\\ta\\trend.py:774: RuntimeWarning:\n",
      "\n",
      "invalid value encountered in double_scalars\n",
      "\n"
     ]
    },
    {
     "data": {
      "text/html": [
       "<div>\n",
       "<style scoped>\n",
       "    .dataframe tbody tr th:only-of-type {\n",
       "        vertical-align: middle;\n",
       "    }\n",
       "\n",
       "    .dataframe tbody tr th {\n",
       "        vertical-align: top;\n",
       "    }\n",
       "\n",
       "    .dataframe thead th {\n",
       "        text-align: right;\n",
       "    }\n",
       "</style>\n",
       "<table border=\"1\" class=\"dataframe\">\n",
       "  <thead>\n",
       "    <tr style=\"text-align: right;\">\n",
       "      <th></th>\n",
       "      <th>Close</th>\n",
       "      <th>Volume</th>\n",
       "      <th>Price</th>\n",
       "      <th>5_reg</th>\n",
       "      <th>10_reg</th>\n",
       "      <th>50_reg</th>\n",
       "      <th>action</th>\n",
       "      <th>ema</th>\n",
       "      <th>sma</th>\n",
       "      <th>Stock_RSI</th>\n",
       "    </tr>\n",
       "    <tr>\n",
       "      <th>Date</th>\n",
       "      <th></th>\n",
       "      <th></th>\n",
       "      <th></th>\n",
       "      <th></th>\n",
       "      <th></th>\n",
       "      <th></th>\n",
       "      <th></th>\n",
       "      <th></th>\n",
       "      <th></th>\n",
       "      <th></th>\n",
       "    </tr>\n",
       "  </thead>\n",
       "  <tbody>\n",
       "    <tr>\n",
       "      <th>2022-03-02 21:55:00</th>\n",
       "      <td>44068.55</td>\n",
       "      <td>319.66490</td>\n",
       "      <td>0.866738</td>\n",
       "      <td>24.348</td>\n",
       "      <td>8.514242</td>\n",
       "      <td>1.252123</td>\n",
       "      <td>0</td>\n",
       "      <td>1.000938</td>\n",
       "      <td>1.000815</td>\n",
       "      <td>1.000000</td>\n",
       "    </tr>\n",
       "    <tr>\n",
       "      <th>2022-03-02 22:00:00</th>\n",
       "      <td>44148.73</td>\n",
       "      <td>227.98166</td>\n",
       "      <td>0.758602</td>\n",
       "      <td>62.846</td>\n",
       "      <td>19.645636</td>\n",
       "      <td>2.491081</td>\n",
       "      <td>1</td>\n",
       "      <td>1.001401</td>\n",
       "      <td>1.001168</td>\n",
       "      <td>1.000000</td>\n",
       "    </tr>\n",
       "    <tr>\n",
       "      <th>2022-03-02 22:05:00</th>\n",
       "      <td>43998.89</td>\n",
       "      <td>351.73024</td>\n",
       "      <td>0.000000</td>\n",
       "      <td>90.114</td>\n",
       "      <td>30.519758</td>\n",
       "      <td>3.481627</td>\n",
       "      <td>0</td>\n",
       "      <td>1.001476</td>\n",
       "      <td>1.001339</td>\n",
       "      <td>0.000000</td>\n",
       "    </tr>\n",
       "    <tr>\n",
       "      <th>2022-03-02 22:10:00</th>\n",
       "      <td>43999.99</td>\n",
       "      <td>94.95091</td>\n",
       "      <td>0.476972</td>\n",
       "      <td>58.718</td>\n",
       "      <td>34.832364</td>\n",
       "      <td>4.021403</td>\n",
       "      <td>0</td>\n",
       "      <td>1.001519</td>\n",
       "      <td>1.001592</td>\n",
       "      <td>0.004056</td>\n",
       "    </tr>\n",
       "    <tr>\n",
       "      <th>2022-03-02 22:15:00</th>\n",
       "      <td>43981.67</td>\n",
       "      <td>99.67554</td>\n",
       "      <td>0.858934</td>\n",
       "      <td>12.386</td>\n",
       "      <td>35.864061</td>\n",
       "      <td>4.859007</td>\n",
       "      <td>1</td>\n",
       "      <td>1.001503</td>\n",
       "      <td>1.001626</td>\n",
       "      <td>0.000000</td>\n",
       "    </tr>\n",
       "  </tbody>\n",
       "</table>\n",
       "</div>"
      ],
      "text/plain": [
       "                        Close     Volume     Price   5_reg     10_reg  \\\n",
       "Date                                                                    \n",
       "2022-03-02 21:55:00  44068.55  319.66490  0.866738  24.348   8.514242   \n",
       "2022-03-02 22:00:00  44148.73  227.98166  0.758602  62.846  19.645636   \n",
       "2022-03-02 22:05:00  43998.89  351.73024  0.000000  90.114  30.519758   \n",
       "2022-03-02 22:10:00  43999.99   94.95091  0.476972  58.718  34.832364   \n",
       "2022-03-02 22:15:00  43981.67   99.67554  0.858934  12.386  35.864061   \n",
       "\n",
       "                       50_reg  action       ema       sma  Stock_RSI  \n",
       "Date                                                                  \n",
       "2022-03-02 21:55:00  1.252123       0  1.000938  1.000815   1.000000  \n",
       "2022-03-02 22:00:00  2.491081       1  1.001401  1.001168   1.000000  \n",
       "2022-03-02 22:05:00  3.481627       0  1.001476  1.001339   0.000000  \n",
       "2022-03-02 22:10:00  4.021403       0  1.001519  1.001592   0.004056  \n",
       "2022-03-02 22:15:00  4.859007       1  1.001503  1.001626   0.000000  "
      ]
     },
     "execution_count": 22,
     "metadata": {},
     "output_type": "execute_result"
    }
   ],
   "source": [
    "df_processed = process_data(df_symbol)\n",
    "df_processed.head()"
   ]
  },
  {
   "cell_type": "code",
   "execution_count": 23,
   "id": "a3f1a479",
   "metadata": {
    "execution": {
     "iopub.execute_input": "2022-05-10T16:18:59.827412Z",
     "iopub.status.busy": "2022-05-10T16:18:59.827412Z",
     "iopub.status.idle": "2022-05-10T16:18:59.852560Z",
     "shell.execute_reply": "2022-05-10T16:18:59.851549Z"
    },
    "papermill": {
     "duration": 0.036201,
     "end_time": "2022-05-10T16:18:59.854615",
     "exception": false,
     "start_time": "2022-05-10T16:18:59.818414",
     "status": "completed"
    },
    "tags": []
   },
   "outputs": [],
   "source": [
    "df_processed = pd.concat([df_processed, df_supertrend[[\"ph\", \"pl\", \"center\", \"5_step_lookback_ph\", \"5_step_lookback_pl\", \"atr\"]]], axis=1).dropna()"
   ]
  },
  {
   "cell_type": "code",
   "execution_count": 24,
   "id": "9cc31efa",
   "metadata": {
    "execution": {
     "iopub.execute_input": "2022-05-10T16:18:59.868559Z",
     "iopub.status.busy": "2022-05-10T16:18:59.868559Z",
     "iopub.status.idle": "2022-05-10T16:18:59.899752Z",
     "shell.execute_reply": "2022-05-10T16:18:59.898876Z"
    },
    "papermill": {
     "duration": 0.042171,
     "end_time": "2022-05-10T16:18:59.902745",
     "exception": false,
     "start_time": "2022-05-10T16:18:59.860574",
     "status": "completed"
    },
    "tags": []
   },
   "outputs": [
    {
     "data": {
      "text/html": [
       "<div>\n",
       "<style scoped>\n",
       "    .dataframe tbody tr th:only-of-type {\n",
       "        vertical-align: middle;\n",
       "    }\n",
       "\n",
       "    .dataframe tbody tr th {\n",
       "        vertical-align: top;\n",
       "    }\n",
       "\n",
       "    .dataframe thead th {\n",
       "        text-align: right;\n",
       "    }\n",
       "</style>\n",
       "<table border=\"1\" class=\"dataframe\">\n",
       "  <thead>\n",
       "    <tr style=\"text-align: right;\">\n",
       "      <th></th>\n",
       "      <th>Close</th>\n",
       "      <th>Volume</th>\n",
       "      <th>Price</th>\n",
       "      <th>5_reg</th>\n",
       "      <th>10_reg</th>\n",
       "      <th>50_reg</th>\n",
       "      <th>action</th>\n",
       "      <th>ema</th>\n",
       "      <th>sma</th>\n",
       "      <th>Stock_RSI</th>\n",
       "      <th>ph</th>\n",
       "      <th>pl</th>\n",
       "      <th>center</th>\n",
       "      <th>5_step_lookback_ph</th>\n",
       "      <th>5_step_lookback_pl</th>\n",
       "      <th>atr</th>\n",
       "    </tr>\n",
       "    <tr>\n",
       "      <th>Date</th>\n",
       "      <th></th>\n",
       "      <th></th>\n",
       "      <th></th>\n",
       "      <th></th>\n",
       "      <th></th>\n",
       "      <th></th>\n",
       "      <th></th>\n",
       "      <th></th>\n",
       "      <th></th>\n",
       "      <th></th>\n",
       "      <th></th>\n",
       "      <th></th>\n",
       "      <th></th>\n",
       "      <th></th>\n",
       "      <th></th>\n",
       "      <th></th>\n",
       "    </tr>\n",
       "  </thead>\n",
       "  <tbody>\n",
       "    <tr>\n",
       "      <th>2022-03-02 21:55:00</th>\n",
       "      <td>44068.55</td>\n",
       "      <td>319.66490</td>\n",
       "      <td>0.866738</td>\n",
       "      <td>24.348</td>\n",
       "      <td>8.514242</td>\n",
       "      <td>1.252123</td>\n",
       "      <td>0.0</td>\n",
       "      <td>1.000938</td>\n",
       "      <td>1.000815</td>\n",
       "      <td>1.000000</td>\n",
       "      <td>0</td>\n",
       "      <td>0</td>\n",
       "      <td>43796.28</td>\n",
       "      <td>0.0</td>\n",
       "      <td>0.0</td>\n",
       "      <td>116.996647</td>\n",
       "    </tr>\n",
       "    <tr>\n",
       "      <th>2022-03-02 22:00:00</th>\n",
       "      <td>44148.73</td>\n",
       "      <td>227.98166</td>\n",
       "      <td>0.758602</td>\n",
       "      <td>62.846</td>\n",
       "      <td>19.645636</td>\n",
       "      <td>2.491081</td>\n",
       "      <td>1.0</td>\n",
       "      <td>1.001401</td>\n",
       "      <td>1.001168</td>\n",
       "      <td>1.000000</td>\n",
       "      <td>0</td>\n",
       "      <td>0</td>\n",
       "      <td>43796.28</td>\n",
       "      <td>0.0</td>\n",
       "      <td>0.0</td>\n",
       "      <td>121.204431</td>\n",
       "    </tr>\n",
       "    <tr>\n",
       "      <th>2022-03-02 22:05:00</th>\n",
       "      <td>43998.89</td>\n",
       "      <td>351.73024</td>\n",
       "      <td>0.000000</td>\n",
       "      <td>90.114</td>\n",
       "      <td>30.519758</td>\n",
       "      <td>3.481627</td>\n",
       "      <td>0.0</td>\n",
       "      <td>1.001476</td>\n",
       "      <td>1.001339</td>\n",
       "      <td>0.000000</td>\n",
       "      <td>1</td>\n",
       "      <td>0</td>\n",
       "      <td>44380.00</td>\n",
       "      <td>0.0</td>\n",
       "      <td>0.0</td>\n",
       "      <td>207.839621</td>\n",
       "    </tr>\n",
       "    <tr>\n",
       "      <th>2022-03-02 22:10:00</th>\n",
       "      <td>43999.99</td>\n",
       "      <td>94.95091</td>\n",
       "      <td>0.476972</td>\n",
       "      <td>58.718</td>\n",
       "      <td>34.832364</td>\n",
       "      <td>4.021403</td>\n",
       "      <td>0.0</td>\n",
       "      <td>1.001519</td>\n",
       "      <td>1.001592</td>\n",
       "      <td>0.004056</td>\n",
       "      <td>0</td>\n",
       "      <td>0</td>\n",
       "      <td>44380.00</td>\n",
       "      <td>0.0</td>\n",
       "      <td>0.0</td>\n",
       "      <td>171.056414</td>\n",
       "    </tr>\n",
       "    <tr>\n",
       "      <th>2022-03-02 22:15:00</th>\n",
       "      <td>43981.67</td>\n",
       "      <td>99.67554</td>\n",
       "      <td>0.858934</td>\n",
       "      <td>12.386</td>\n",
       "      <td>35.864061</td>\n",
       "      <td>4.859007</td>\n",
       "      <td>1.0</td>\n",
       "      <td>1.001503</td>\n",
       "      <td>1.001626</td>\n",
       "      <td>0.000000</td>\n",
       "      <td>0</td>\n",
       "      <td>1</td>\n",
       "      <td>43870.00</td>\n",
       "      <td>0.0</td>\n",
       "      <td>0.0</td>\n",
       "      <td>157.374276</td>\n",
       "    </tr>\n",
       "  </tbody>\n",
       "</table>\n",
       "</div>"
      ],
      "text/plain": [
       "                        Close     Volume     Price   5_reg     10_reg  \\\n",
       "Date                                                                    \n",
       "2022-03-02 21:55:00  44068.55  319.66490  0.866738  24.348   8.514242   \n",
       "2022-03-02 22:00:00  44148.73  227.98166  0.758602  62.846  19.645636   \n",
       "2022-03-02 22:05:00  43998.89  351.73024  0.000000  90.114  30.519758   \n",
       "2022-03-02 22:10:00  43999.99   94.95091  0.476972  58.718  34.832364   \n",
       "2022-03-02 22:15:00  43981.67   99.67554  0.858934  12.386  35.864061   \n",
       "\n",
       "                       50_reg  action       ema       sma  Stock_RSI  ph  pl  \\\n",
       "Date                                                                           \n",
       "2022-03-02 21:55:00  1.252123     0.0  1.000938  1.000815   1.000000   0   0   \n",
       "2022-03-02 22:00:00  2.491081     1.0  1.001401  1.001168   1.000000   0   0   \n",
       "2022-03-02 22:05:00  3.481627     0.0  1.001476  1.001339   0.000000   1   0   \n",
       "2022-03-02 22:10:00  4.021403     0.0  1.001519  1.001592   0.004056   0   0   \n",
       "2022-03-02 22:15:00  4.859007     1.0  1.001503  1.001626   0.000000   0   1   \n",
       "\n",
       "                       center  5_step_lookback_ph  5_step_lookback_pl  \\\n",
       "Date                                                                    \n",
       "2022-03-02 21:55:00  43796.28                 0.0                 0.0   \n",
       "2022-03-02 22:00:00  43796.28                 0.0                 0.0   \n",
       "2022-03-02 22:05:00  44380.00                 0.0                 0.0   \n",
       "2022-03-02 22:10:00  44380.00                 0.0                 0.0   \n",
       "2022-03-02 22:15:00  43870.00                 0.0                 0.0   \n",
       "\n",
       "                            atr  \n",
       "Date                             \n",
       "2022-03-02 21:55:00  116.996647  \n",
       "2022-03-02 22:00:00  121.204431  \n",
       "2022-03-02 22:05:00  207.839621  \n",
       "2022-03-02 22:10:00  171.056414  \n",
       "2022-03-02 22:15:00  157.374276  "
      ]
     },
     "execution_count": 24,
     "metadata": {},
     "output_type": "execute_result"
    }
   ],
   "source": [
    "df_processed.head()"
   ]
  },
  {
   "cell_type": "code",
   "execution_count": 25,
   "id": "74486c3c",
   "metadata": {
    "execution": {
     "iopub.execute_input": "2022-05-10T16:18:59.917747Z",
     "iopub.status.busy": "2022-05-10T16:18:59.916744Z",
     "iopub.status.idle": "2022-05-10T16:18:59.946062Z",
     "shell.execute_reply": "2022-05-10T16:18:59.945192Z"
    },
    "papermill": {
     "duration": 0.039333,
     "end_time": "2022-05-10T16:18:59.948089",
     "exception": false,
     "start_time": "2022-05-10T16:18:59.908756",
     "status": "completed"
    },
    "tags": []
   },
   "outputs": [],
   "source": [
    "df_processed_valid = pd.concat([df_processed_valid, df_supertrend[[\"ph\", \"pl\", \"center\", \"5_step_lookback_ph\", \"5_step_lookback_pl\", \"atr\"]]], axis=1).dropna()"
   ]
  },
  {
   "cell_type": "code",
   "execution_count": 26,
   "id": "08655008",
   "metadata": {
    "execution": {
     "iopub.execute_input": "2022-05-10T16:18:59.964086Z",
     "iopub.status.busy": "2022-05-10T16:18:59.964086Z",
     "iopub.status.idle": "2022-05-10T16:18:59.993538Z",
     "shell.execute_reply": "2022-05-10T16:18:59.992666Z"
    },
    "papermill": {
     "duration": 0.039493,
     "end_time": "2022-05-10T16:18:59.995565",
     "exception": false,
     "start_time": "2022-05-10T16:18:59.956072",
     "status": "completed"
    },
    "tags": []
   },
   "outputs": [
    {
     "data": {
      "text/html": [
       "<div>\n",
       "<style scoped>\n",
       "    .dataframe tbody tr th:only-of-type {\n",
       "        vertical-align: middle;\n",
       "    }\n",
       "\n",
       "    .dataframe tbody tr th {\n",
       "        vertical-align: top;\n",
       "    }\n",
       "\n",
       "    .dataframe thead th {\n",
       "        text-align: right;\n",
       "    }\n",
       "</style>\n",
       "<table border=\"1\" class=\"dataframe\">\n",
       "  <thead>\n",
       "    <tr style=\"text-align: right;\">\n",
       "      <th></th>\n",
       "      <th>Close</th>\n",
       "      <th>Volume</th>\n",
       "      <th>Price</th>\n",
       "      <th>5_reg</th>\n",
       "      <th>10_reg</th>\n",
       "      <th>50_reg</th>\n",
       "      <th>action</th>\n",
       "      <th>ema</th>\n",
       "      <th>sma</th>\n",
       "      <th>Stock_RSI</th>\n",
       "      <th>ph</th>\n",
       "      <th>pl</th>\n",
       "      <th>center</th>\n",
       "      <th>5_step_lookback_ph</th>\n",
       "      <th>5_step_lookback_pl</th>\n",
       "      <th>atr</th>\n",
       "    </tr>\n",
       "    <tr>\n",
       "      <th>Date</th>\n",
       "      <th></th>\n",
       "      <th></th>\n",
       "      <th></th>\n",
       "      <th></th>\n",
       "      <th></th>\n",
       "      <th></th>\n",
       "      <th></th>\n",
       "      <th></th>\n",
       "      <th></th>\n",
       "      <th></th>\n",
       "      <th></th>\n",
       "      <th></th>\n",
       "      <th></th>\n",
       "      <th></th>\n",
       "      <th></th>\n",
       "      <th></th>\n",
       "    </tr>\n",
       "  </thead>\n",
       "  <tbody>\n",
       "    <tr>\n",
       "      <th>2022-03-01 04:15:00</th>\n",
       "      <td>43179.03</td>\n",
       "      <td>270.75635</td>\n",
       "      <td>0.348515</td>\n",
       "      <td>38.685</td>\n",
       "      <td>16.969273</td>\n",
       "      <td>-9.024230</td>\n",
       "      <td>1.0</td>\n",
       "      <td>0.999809</td>\n",
       "      <td>1.000316</td>\n",
       "      <td>0.134123</td>\n",
       "      <td>0</td>\n",
       "      <td>0</td>\n",
       "      <td>43288.11</td>\n",
       "      <td>1.0</td>\n",
       "      <td>1.0</td>\n",
       "      <td>136.635784</td>\n",
       "    </tr>\n",
       "    <tr>\n",
       "      <th>2022-03-01 04:20:00</th>\n",
       "      <td>43257.20</td>\n",
       "      <td>140.13570</td>\n",
       "      <td>0.994782</td>\n",
       "      <td>22.799</td>\n",
       "      <td>18.017818</td>\n",
       "      <td>-8.623711</td>\n",
       "      <td>0.0</td>\n",
       "      <td>1.000064</td>\n",
       "      <td>1.000630</td>\n",
       "      <td>0.513794</td>\n",
       "      <td>0</td>\n",
       "      <td>0</td>\n",
       "      <td>43288.11</td>\n",
       "      <td>0.0</td>\n",
       "      <td>0.0</td>\n",
       "      <td>117.283856</td>\n",
       "    </tr>\n",
       "    <tr>\n",
       "      <th>2022-03-01 04:25:00</th>\n",
       "      <td>43226.14</td>\n",
       "      <td>53.94089</td>\n",
       "      <td>0.153345</td>\n",
       "      <td>36.165</td>\n",
       "      <td>23.814727</td>\n",
       "      <td>-8.157106</td>\n",
       "      <td>1.0</td>\n",
       "      <td>1.000205</td>\n",
       "      <td>1.000886</td>\n",
       "      <td>0.255868</td>\n",
       "      <td>0</td>\n",
       "      <td>0</td>\n",
       "      <td>43288.11</td>\n",
       "      <td>0.0</td>\n",
       "      <td>0.0</td>\n",
       "      <td>91.492571</td>\n",
       "    </tr>\n",
       "    <tr>\n",
       "      <th>2022-03-01 04:30:00</th>\n",
       "      <td>43284.34</td>\n",
       "      <td>147.51626</td>\n",
       "      <td>0.813199</td>\n",
       "      <td>22.386</td>\n",
       "      <td>20.116242</td>\n",
       "      <td>-8.015828</td>\n",
       "      <td>0.0</td>\n",
       "      <td>1.000420</td>\n",
       "      <td>1.001172</td>\n",
       "      <td>0.497679</td>\n",
       "      <td>1</td>\n",
       "      <td>1</td>\n",
       "      <td>43307.72</td>\n",
       "      <td>1.0</td>\n",
       "      <td>1.0</td>\n",
       "      <td>102.715047</td>\n",
       "    </tr>\n",
       "    <tr>\n",
       "      <th>2022-03-01 04:35:00</th>\n",
       "      <td>43280.01</td>\n",
       "      <td>61.06185</td>\n",
       "      <td>0.788574</td>\n",
       "      <td>5.623</td>\n",
       "      <td>21.849394</td>\n",
       "      <td>-7.699331</td>\n",
       "      <td>0.0</td>\n",
       "      <td>1.000577</td>\n",
       "      <td>1.001504</td>\n",
       "      <td>0.892410</td>\n",
       "      <td>0</td>\n",
       "      <td>0</td>\n",
       "      <td>43307.72</td>\n",
       "      <td>0.0</td>\n",
       "      <td>0.0</td>\n",
       "      <td>88.373365</td>\n",
       "    </tr>\n",
       "  </tbody>\n",
       "</table>\n",
       "</div>"
      ],
      "text/plain": [
       "                        Close     Volume     Price   5_reg     10_reg  \\\n",
       "Date                                                                    \n",
       "2022-03-01 04:15:00  43179.03  270.75635  0.348515  38.685  16.969273   \n",
       "2022-03-01 04:20:00  43257.20  140.13570  0.994782  22.799  18.017818   \n",
       "2022-03-01 04:25:00  43226.14   53.94089  0.153345  36.165  23.814727   \n",
       "2022-03-01 04:30:00  43284.34  147.51626  0.813199  22.386  20.116242   \n",
       "2022-03-01 04:35:00  43280.01   61.06185  0.788574   5.623  21.849394   \n",
       "\n",
       "                       50_reg  action       ema       sma  Stock_RSI  ph  pl  \\\n",
       "Date                                                                           \n",
       "2022-03-01 04:15:00 -9.024230     1.0  0.999809  1.000316   0.134123   0   0   \n",
       "2022-03-01 04:20:00 -8.623711     0.0  1.000064  1.000630   0.513794   0   0   \n",
       "2022-03-01 04:25:00 -8.157106     1.0  1.000205  1.000886   0.255868   0   0   \n",
       "2022-03-01 04:30:00 -8.015828     0.0  1.000420  1.001172   0.497679   1   1   \n",
       "2022-03-01 04:35:00 -7.699331     0.0  1.000577  1.001504   0.892410   0   0   \n",
       "\n",
       "                       center  5_step_lookback_ph  5_step_lookback_pl  \\\n",
       "Date                                                                    \n",
       "2022-03-01 04:15:00  43288.11                 1.0                 1.0   \n",
       "2022-03-01 04:20:00  43288.11                 0.0                 0.0   \n",
       "2022-03-01 04:25:00  43288.11                 0.0                 0.0   \n",
       "2022-03-01 04:30:00  43307.72                 1.0                 1.0   \n",
       "2022-03-01 04:35:00  43307.72                 0.0                 0.0   \n",
       "\n",
       "                            atr  \n",
       "Date                             \n",
       "2022-03-01 04:15:00  136.635784  \n",
       "2022-03-01 04:20:00  117.283856  \n",
       "2022-03-01 04:25:00   91.492571  \n",
       "2022-03-01 04:30:00  102.715047  \n",
       "2022-03-01 04:35:00   88.373365  "
      ]
     },
     "execution_count": 26,
     "metadata": {},
     "output_type": "execute_result"
    }
   ],
   "source": [
    "df_processed_valid.head()"
   ]
  },
  {
   "cell_type": "code",
   "execution_count": 27,
   "id": "bf14e569",
   "metadata": {
    "execution": {
     "iopub.execute_input": "2022-05-10T16:19:00.013536Z",
     "iopub.status.busy": "2022-05-10T16:19:00.013536Z",
     "iopub.status.idle": "2022-05-10T16:19:00.368722Z",
     "shell.execute_reply": "2022-05-10T16:19:00.367853Z"
    },
    "papermill": {
     "duration": 0.36818,
     "end_time": "2022-05-10T16:19:00.371721",
     "exception": false,
     "start_time": "2022-05-10T16:19:00.003541",
     "status": "completed"
    },
    "tags": []
   },
   "outputs": [],
   "source": [
    "df_processed.to_csv(product[\"data_train\"])\n",
    "df_processed_valid.to_csv(product[\"data_validation\"])"
   ]
  }
 ],
 "metadata": {
  "interpreter": {
   "hash": "7aa3e32ad1ac443041e179702ff775d0d6aade27c9973dce7d8a7f55c4f1197d"
  },
  "kernelspec": {
   "display_name": "Python 3",
   "language": "python",
   "name": "python3"
  },
  "language_info": {
   "codemirror_mode": {
    "name": "ipython",
    "version": 3
   },
   "file_extension": ".py",
   "mimetype": "text/x-python",
   "name": "python",
   "nbconvert_exporter": "python",
   "pygments_lexer": "ipython3",
   "version": "3.7.6"
  },
  "papermill": {
   "duration": 92.024218,
   "end_time": "2022-05-10T16:19:00.934315",
   "exception": null,
   "input_path": "C:\\Users\\berkayg\\AppData\\Local\\Temp\\tmpi_7flean.ipynb",
   "output_path": "C:\\Users\\berkayg\\Desktop\\Coding env\\crypto-prediction-project\\products\\notebooks\\process_data.ipynb",
   "parameters": {
    "initial_return_thresh": 0.1,
    "product": {
     "data_train": "C:\\Users\\berkayg\\Desktop\\Coding env\\crypto-prediction-project\\products\\data\\processed_train_data.csv",
     "data_validation": "C:\\Users\\berkayg\\Desktop\\Coding env\\crypto-prediction-project\\products\\data\\processed_validation_data.csv",
     "nb": "C:\\Users\\berkayg\\Desktop\\Coding env\\crypto-prediction-project\\products\\notebooks\\process_data.ipynb"
    },
    "upstream": {
     "data_saving": {
      "data_train": "C:\\Users\\berkayg\\Desktop\\Coding env\\crypto-prediction-project\\products\\data\\raw_train_data.csv",
      "data_validation": "C:\\Users\\berkayg\\Desktop\\Coding env\\crypto-prediction-project\\products\\data\\raw_validation_data.csv"
     }
    }
   },
   "start_time": "2022-05-10T16:17:28.910097"
  },
  "ploomber": {
   "injected_manually": true
  }
 },
 "nbformat": 4,
 "nbformat_minor": 5
}